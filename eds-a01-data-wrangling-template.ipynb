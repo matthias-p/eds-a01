{
 "cells": [
  {
   "cell_type": "markdown",
   "metadata": {},
   "source": [
    "# Data Wrangling and Regression\n",
    "(c) Hochschule Aalen 2020, Matthias Nutz, Martin Heckmann"
   ]
  },
  {
   "cell_type": "code",
   "execution_count": null,
   "metadata": {},
   "outputs": [],
   "source": [
    "import pandas as pd, numpy as np"
   ]
  },
  {
   "cell_type": "markdown",
   "metadata": {},
   "source": [
    "## Import data\n",
    "\n",
    "The countries file from the demo in the course in provided as countries.csv\n",
    "\n",
    "Import the file using pandas and explore the data by using DataFrame methods."
   ]
  },
  {
   "cell_type": "markdown",
   "metadata": {},
   "source": [
    "## Get second data set\n",
    "\n",
    "Import a second dataset and combine it into the DataFrame. Use the Current health expenditure (CHE) as percentage of gross domestic product on the WHO homepage.\n",
    "\n",
    "Go to https://apps.who.int/gho/data/view.main.GHEDCHEGDPSHA2011v and look for a suitable dataset, download the file manually and load the data.\n",
    "\n",
    "Create a new column in the first DataFrame and include the data from the WHO. If necessary, resolve discrepancies between the country names in both data sets by keeping the names from the original data set."
   ]
  },
  {
   "cell_type": "markdown",
   "metadata": {},
   "source": [
    "## Perfrom simple regression\n",
    "Select as year 2017. Train a regression model to predict the life expectancy given the log (to base 10) of the gdp. Use a linear model without regularization. Perform a leave one object out cross validation (using sklearn) for training and evaluation.\n",
    "Create a plot with the true value, the prediction and the error calculated from the cross validation for each country ordered by increasing error, contry names on the x-axis. Add a second plot where you use a bubble plot to additionally show the gdp of each country"
   ]
  },
  {
   "cell_type": "markdown",
   "metadata": {},
   "source": [
    "## Extend regression\n",
    "Include in the regression also the log (to base 10) of the current health expenditure as a feature. Transform the features to a polynomial of order 4 using PolynomialFeatures from sklearn. Apply a ridge regression to regularize the regression. Do a hyperparameter search in the range of 0.1 to 100 in steps of multiples of 10. Perform the hyperparameter tuning and the evaluation as a nested cross validation (you can follow the guide at https://scikit-learn.org/stable/auto_examples/model_selection/plot_nested_cross_validation_iris.html for this)"
   ]
  }
 ],
 "metadata": {
  "kernelspec": {
   "display_name": "Python 3",
   "language": "python",
   "name": "python3"
  },
  "language_info": {
   "codemirror_mode": {
    "name": "ipython",
    "version": 3
   },
   "file_extension": ".py",
   "mimetype": "text/x-python",
   "name": "python",
   "nbconvert_exporter": "python",
   "pygments_lexer": "ipython3",
   "version": "3.7.8-final"
  }
 },
 "nbformat": 4,
 "nbformat_minor": 4
}